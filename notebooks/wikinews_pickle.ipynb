{
 "cells": [
  {
   "cell_type": "code",
   "execution_count": 6,
   "metadata": {},
   "outputs": [],
   "source": [
    "import pickle\n",
    "import numpy as np"
   ]
  },
  {
   "cell_type": "code",
   "execution_count": 4,
   "metadata": {},
   "outputs": [
    {
     "name": "stdout",
     "output_type": "stream",
     "text": [
      "configs  lstm_gru.pt\t\t       multi_input_lstm.pt  run.sh  trace.py\n",
      "data\t multi_input_lstm_gru_attn.pt  notebooks\t    src\n",
      "logs\t multi_input_lstm_gru.pt       README.md\t    tests\n"
     ]
    }
   ],
   "source": [
    "!ls .."
   ]
  },
  {
   "cell_type": "code",
   "execution_count": 5,
   "metadata": {},
   "outputs": [],
   "source": [
    "wiki_news = \"../data/embeddings/wiki-news-300d-1M.vec\""
   ]
  },
  {
   "cell_type": "code",
   "execution_count": 8,
   "metadata": {},
   "outputs": [
    {
     "name": "stdout",
     "output_type": "stream",
     "text": [
      "progress: 999999\r"
     ]
    }
   ],
   "source": [
    "emb = dict()\n",
    "with open(wiki_news, 'r') as f:\n",
    "    num, size = list(map(int, f.readline().split()))\n",
    "    for i in range(num):\n",
    "        w, vec = f.readline().split(' ', 1)\n",
    "        vec = np.asarray(vec.split(), dtype='float32')\n",
    "        emb[w] = vec\n",
    "        print(f'progress: {i}', end='\\r')"
   ]
  },
  {
   "cell_type": "code",
   "execution_count": 11,
   "metadata": {},
   "outputs": [
    {
     "data": {
      "text/plain": [
       "array([300])"
      ]
     },
     "execution_count": 11,
     "metadata": {},
     "output_type": "execute_result"
    }
   ],
   "source": [
    "np.unique([len(item) for item in emb.values()])"
   ]
  },
  {
   "cell_type": "code",
   "execution_count": 12,
   "metadata": {},
   "outputs": [],
   "source": [
    "with open(\"../data/embeddings/wiki-news-300d-1M.pkl\", \"wb\") as f:\n",
    "    pickle.dump(emb, f)"
   ]
  },
  {
   "cell_type": "code",
   "execution_count": null,
   "metadata": {},
   "outputs": [],
   "source": []
  }
 ],
 "metadata": {
  "kernelspec": {
   "display_name": "Python 3",
   "language": "python",
   "name": "python3"
  },
  "language_info": {
   "codemirror_mode": {
    "name": "ipython",
    "version": 3
   },
   "file_extension": ".py",
   "mimetype": "text/x-python",
   "name": "python",
   "nbconvert_exporter": "python",
   "pygments_lexer": "ipython3",
   "version": "3.7.3"
  }
 },
 "nbformat": 4,
 "nbformat_minor": 4
}
