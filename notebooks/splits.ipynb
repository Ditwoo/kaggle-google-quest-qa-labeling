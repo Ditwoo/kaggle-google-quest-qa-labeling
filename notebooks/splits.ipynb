{
 "cells": [
  {
   "cell_type": "code",
   "execution_count": 1,
   "metadata": {},
   "outputs": [],
   "source": [
    "import re\n",
    "import gc\n",
    "import pickle\n",
    "import numpy as np\n",
    "import pandas as ps\n",
    "from tqdm import tqdm\n",
    "from pathlib import Path\n",
    "from itertools import chain\n",
    "from collections import Counter\n",
    "\n",
    "\n",
    "import matplotlib.pyplot as plt\n",
    "import seaborn as sbn\n",
    "from urllib.parse import urlparse\n",
    "from sklearn.preprocessing import OneHotEncoder\n",
    "\n",
    "from sklearn.model_selection import train_test_split"
   ]
  },
  {
   "cell_type": "code",
   "execution_count": 2,
   "metadata": {},
   "outputs": [],
   "source": [
    "data_dir = Path('..') / 'data'\n",
    "embeddings_dir = data_dir / 'embeddings'"
   ]
  },
  {
   "cell_type": "code",
   "execution_count": 3,
   "metadata": {},
   "outputs": [
    {
     "name": "stdout",
     "output_type": "stream",
     "text": [
      "\u001b[01;34m../data\u001b[00m\n",
      "├── \u001b[01;34membeddings\u001b[00m\n",
      "│   ├── crawl-300d-2M.pkl\n",
      "│   ├── \u001b[01;31mcrawl-300d-2M.pkl.zip\u001b[00m\n",
      "│   ├── glove.840B.300d.pkl\n",
      "│   ├── \u001b[01;31mglove.840B.300d.pkl.zip\u001b[00m\n",
      "│   └── glove_crawl_emb.pkl\n",
      "├── sample_submission.csv\n",
      "├── test.csv\n",
      "├── test.pkl\n",
      "├── train.csv\n",
      "├── \u001b[01;31mtrain.csv.zip\u001b[00m\n",
      "├── train.pkl\n",
      "├── valid.pkl\n",
      "├── vocab.pkl\n",
      "└── vocab.txt\n",
      "\n",
      "1 directory, 14 files\n"
     ]
    }
   ],
   "source": [
    "!tree ../data"
   ]
  },
  {
   "cell_type": "markdown",
   "metadata": {},
   "source": [
    "## Embedings\n",
    "\n",
    "Embedings downloaded from this kernel - [**Quest Q&A - LSTM Inference Only**](https://www.kaggle.com/chanhu/quest-q-a-lstm-inference-baseline)."
   ]
  },
  {
   "cell_type": "code",
   "execution_count": 4,
   "metadata": {},
   "outputs": [
    {
     "name": "stdout",
     "output_type": "stream",
     "text": [
      "(6079, 41)\n"
     ]
    }
   ],
   "source": [
    "train = ps.read_csv(data_dir / 'train.csv')\n",
    "print(train.shape)"
   ]
  },
  {
   "cell_type": "code",
   "execution_count": 5,
   "metadata": {},
   "outputs": [
    {
     "data": {
      "text/plain": [
       "Index(['qa_id', 'question_title', 'question_body', 'question_user_name',\n",
       "       'question_user_page', 'answer', 'answer_user_name', 'answer_user_page',\n",
       "       'url', 'category', 'host', 'question_asker_intent_understanding',\n",
       "       'question_body_critical', 'question_conversational',\n",
       "       'question_expect_short_answer', 'question_fact_seeking',\n",
       "       'question_has_commonly_accepted_answer',\n",
       "       'question_interestingness_others', 'question_interestingness_self',\n",
       "       'question_multi_intent', 'question_not_really_a_question',\n",
       "       'question_opinion_seeking', 'question_type_choice',\n",
       "       'question_type_compare', 'question_type_consequence',\n",
       "       'question_type_definition', 'question_type_entity',\n",
       "       'question_type_instructions', 'question_type_procedure',\n",
       "       'question_type_reason_explanation', 'question_type_spelling',\n",
       "       'question_well_written', 'answer_helpful',\n",
       "       'answer_level_of_information', 'answer_plausible', 'answer_relevance',\n",
       "       'answer_satisfaction', 'answer_type_instructions',\n",
       "       'answer_type_procedure', 'answer_type_reason_explanation',\n",
       "       'answer_well_written'],\n",
       "      dtype='object')"
      ]
     },
     "execution_count": 5,
     "metadata": {},
     "output_type": "execute_result"
    }
   ],
   "source": [
    "train.columns"
   ]
  },
  {
   "cell_type": "code",
   "execution_count": 6,
   "metadata": {},
   "outputs": [
    {
     "name": "stdout",
     "output_type": "stream",
     "text": [
      "(476, 11)\n"
     ]
    }
   ],
   "source": [
    "test = ps.read_csv(data_dir / 'test.csv')\n",
    "print(test.shape)"
   ]
  },
  {
   "cell_type": "code",
   "execution_count": 7,
   "metadata": {},
   "outputs": [
    {
     "data": {
      "text/plain": [
       "Index(['qa_id', 'question_title', 'question_body', 'question_user_name',\n",
       "       'question_user_page', 'answer', 'answer_user_name', 'answer_user_page',\n",
       "       'url', 'category', 'host'],\n",
       "      dtype='object')"
      ]
     },
     "execution_count": 7,
     "metadata": {},
     "output_type": "execute_result"
    }
   ],
   "source": [
    "test.columns"
   ]
  },
  {
   "cell_type": "code",
   "execution_count": 8,
   "metadata": {},
   "outputs": [],
   "source": [
    "targets = [\n",
    "    'question_asker_intent_understanding',\n",
    "    'question_body_critical',\n",
    "    'question_conversational',\n",
    "    'question_expect_short_answer',\n",
    "    'question_fact_seeking',\n",
    "    'question_has_commonly_accepted_answer',\n",
    "    'question_interestingness_others',\n",
    "    'question_interestingness_self',\n",
    "    'question_multi_intent',\n",
    "    'question_not_really_a_question',\n",
    "    'question_opinion_seeking',\n",
    "    'question_type_choice',\n",
    "    'question_type_compare',\n",
    "    'question_type_consequence',\n",
    "    'question_type_definition',\n",
    "    'question_type_entity',\n",
    "    'question_type_instructions',\n",
    "    'question_type_procedure',\n",
    "    'question_type_reason_explanation',\n",
    "    'question_type_spelling',\n",
    "    'question_well_written',\n",
    "    'answer_helpful',\n",
    "    'answer_level_of_information',\n",
    "    'answer_plausible',\n",
    "    'answer_relevance',\n",
    "    'answer_satisfaction',\n",
    "    'answer_type_instructions',\n",
    "    'answer_type_procedure',\n",
    "    'answer_type_reason_explanation',\n",
    "    'answer_well_written'    \n",
    "]\n",
    "\n",
    "text_columns = [\n",
    "    'question_title', \n",
    "    'question_body', \n",
    "    'answer'\n",
    "]"
   ]
  },
  {
   "cell_type": "code",
   "execution_count": 9,
   "metadata": {},
   "outputs": [],
   "source": [
    "def get_coefs(word: str, *arr):\n",
    "    return word, np.asarray(arr, dtype='float32')"
   ]
  },
  {
   "cell_type": "code",
   "execution_count": 10,
   "metadata": {},
   "outputs": [],
   "source": [
    "def load_embeddings(path: str):\n",
    "    with open(path,'rb') as f:\n",
    "        emb_arr = pickle.load(f)\n",
    "    return emb_arr"
   ]
  },
  {
   "cell_type": "code",
   "execution_count": 11,
   "metadata": {},
   "outputs": [],
   "source": [
    "def build_matrix(word_index, path):\n",
    "    embedding_index = load_embeddings(path)\n",
    "    embedding_matrix = np.zeros((len(word_index), 300))\n",
    "    unknown_words = []\n",
    "    \n",
    "    for word, i in word_index.items():\n",
    "        if i <= len(word_index):\n",
    "            try:\n",
    "                embedding_matrix[i] = embedding_index[word]\n",
    "            except KeyError:\n",
    "                try:\n",
    "                    embedding_matrix[i] = embedding_index[word.lower()]\n",
    "                except KeyError:\n",
    "                    try:\n",
    "                        embedding_matrix[i] = embedding_index[word.title()]\n",
    "                    except KeyError:\n",
    "                        unknown_words.append(word)\n",
    "                        \n",
    "    return embedding_matrix, unknown_words"
   ]
  },
  {
   "cell_type": "code",
   "execution_count": 12,
   "metadata": {},
   "outputs": [],
   "source": [
    "separate_chars = [\n",
    "    ',', '.', '\"', ':', ')', '(', '-', '!', '?', \n",
    "    '|', ';', \"'\", '$', '&', '/', '[', ']', '>', \n",
    "    '%', '=', '#', '*', '+', '\\\\', '•',  '~', '@', \n",
    "    '£', '·', '_', '{', '}', '©', '^', '®', '`',\n",
    "    '<', '→', '°', '€', '™', '›',  '♥', '←', '×', \n",
    "    '§', '″', '′', 'Â', '█', '½', 'à', '…', '\\n', \n",
    "    '\\xa0', '\\t', '“', '★', '”', '–', '●', 'â', \n",
    "    '►', '−', '¢', '²', '¬', '░', '¶', '↑', '±',\n",
    "    '¿', '▾', '═', '¦', '║', '―', '¥', '▓', '—',\n",
    "    '‹', '─', '\\u3000', '\\u202f', '▒', '：', '¼', \n",
    "    '⊕', '▼', '▪', '†', '■', '’', '▀', '¨', '▄', \n",
    "    '♫', '☆', 'é', '¯', '♦', '¤', '▲', 'è', '¸', \n",
    "    '¾', 'Ã', '⋅', '‘', '∞', '«', '∙', '）', '↓', \n",
    "    '、', '│', '（', '»', '，', '♪', '╩', '╚', '³', \n",
    "    '・', '╦', '╣', '╔', '╗', '▬', '❤', 'ï', 'Ø', \n",
    "    '¹', '≤', '‡', '√', \n",
    "]\n",
    "# mispell_dict = {\n",
    "#     \"aren't\": \"are not\",\n",
    "#     \"can't\": \"cannot\",\n",
    "#     \"couldn't\": \"could not\",\n",
    "#     \"couldnt\": \"could not\",\n",
    "#     \"didn't\": \"did not\",\n",
    "#     \"doesn't\": \"does not\",\n",
    "#     \"doesnt\": \"does not\",\n",
    "#     \"don't\": \"do not\",\n",
    "#     \"hadn't\": \"had not\",\n",
    "#     \"hasn't\": \"has not\",\n",
    "#     \"haven't\": \"have not\",\n",
    "#     \"havent\": \"have not\",\n",
    "#     \"he'd\": \"he would\",\n",
    "#     \"he'll\": \"he will\",\n",
    "#     \"he's\": \"he is\",\n",
    "#     \"i'd\": \"I would\",\n",
    "#     \"i'd\": \"I had\",\n",
    "#     \"i'll\": \"I will\",\n",
    "#     \"i'm\": \"I am\",\n",
    "#     \"isn't\": \"is not\",\n",
    "#     \"it's\": \"it is\",\n",
    "#     \"it'll\":\"it will\",\n",
    "#     \"i've\": \"I have\",\n",
    "#     \"let's\": \"let us\",\n",
    "#     \"mightn't\": \"might not\",\n",
    "#     \"mustn't\": \"must not\",\n",
    "#     \"shan't\": \"shall not\",\n",
    "#     \"she'd\": \"she would\",\n",
    "#     \"she'll\": \"she will\",\n",
    "#     \"she's\": \"she is\",\n",
    "#     \"shouldn't\": \"should not\",\n",
    "#     \"shouldnt\": \"should not\",\n",
    "#     \"that's\": \"that is\",\n",
    "#     \"thats\": \"that is\",\n",
    "#     \"there's\": \"there is\",\n",
    "#     \"theres\": \"there is\",\n",
    "#     \"they'd\": \"they would\",\n",
    "#     \"they'll\": \"they will\",\n",
    "#     \"they're\": \"they are\",\n",
    "#     \"theyre\":  \"they are\",\n",
    "#     \"they've\": \"they have\",\n",
    "#     \"we'd\": \"we would\",\n",
    "#     \"we're\": \"we are\",\n",
    "#     \"weren't\": \"were not\",\n",
    "#     \"we've\": \"we have\",\n",
    "#     \"what'll\": \"what will\",\n",
    "#     \"what're\": \"what are\",\n",
    "#     \"what's\": \"what is\",\n",
    "#     \"what've\": \"what have\",\n",
    "#     \"where's\": \"where is\",\n",
    "#     \"who'd\": \"who would\",\n",
    "#     \"who'll\": \"who will\",\n",
    "#     \"who're\": \"who are\",\n",
    "#     \"who's\": \"who is\",\n",
    "#     \"who've\": \"who have\",\n",
    "#     \"won't\": \"will not\",\n",
    "#     \"wouldn't\": \"would not\",\n",
    "#     \"you'd\": \"you would\",\n",
    "#     \"you'll\": \"you will\",\n",
    "#     \"you're\": \"you are\",\n",
    "#     \"you've\": \"you have\",\n",
    "#     \"'re\": \" are\",\n",
    "#     \"wasn't\": \"was not\",\n",
    "#     \"we'll\": \" will\",\n",
    "#     \"didn't\": \"did not\",\n",
    "#     \"tryin'\": \"trying\"\n",
    "# }\n",
    "number_pattern = re.compile(\"(\\d+)\")\n",
    "\n",
    "def tokenize(s: str, lower: bool = False, split: str = \" \") -> list:\n",
    "    if lower:\n",
    "        s = s.lower()\n",
    "        \n",
    "    # replacing part\n",
    "    s = re.sub('[0-9]{5,}', '#####', s)\n",
    "    s = re.sub('[0-9]{4}', '####', s)\n",
    "    s = re.sub('[0-9]{3}', '###', s)\n",
    "    s = re.sub('[0-9]{2}', '##', s)\n",
    "\n",
    "    for c in separate_chars:\n",
    "        s = s.replace(c, f\" {c} \")\n",
    "    \n",
    "#     for k, v in mispell_dict.items():\n",
    "#         s = s.replace(k, v)\n",
    "        \n",
    "    return s.split(split)\n",
    "    \n",
    "\n",
    "def build_vocab(train_data, test_data, fields, size: int = None):\n",
    "    word_counter = Counter()\n",
    "    for f in fields:\n",
    "        for d in (train_data, test_data):\n",
    "            word_counter.update(chain.from_iterable([tokenize(s) for s in d[f].values]))\n",
    "    \n",
    "    words = sorted([w for w, cnt in word_counter.most_common(size)])\n",
    "    return words"
   ]
  },
  {
   "cell_type": "code",
   "execution_count": 13,
   "metadata": {},
   "outputs": [
    {
     "name": "stdout",
     "output_type": "stream",
     "text": [
      "CPU times: user 1.58 s, sys: 15.5 ms, total: 1.59 s\n",
      "Wall time: 1.59 s\n"
     ]
    },
    {
     "data": {
      "text/plain": [
       "60666"
      ]
     },
     "execution_count": 13,
     "metadata": {},
     "output_type": "execute_result"
    }
   ],
   "source": [
    "%%time\n",
    "\n",
    "words = build_vocab(train, test, text_columns)\n",
    "len(words)"
   ]
  },
  {
   "cell_type": "code",
   "execution_count": 14,
   "metadata": {},
   "outputs": [
    {
     "data": {
      "text/plain": [
       "' \\t \\n ! \" # $ % & \\' ( ) * + , - . / 0 0A 0AAK0AAL0AAM 0B 0C 0CAYQ 0Eh 0FC8 0Ghz 0L 0V 0a 0ac8 0ace 0b 0c 0d 0d0b7db 0dp 0ex 0f 0ghz 0i 0j 0jans 0jbWHZ 0l 0m 0mA 0mm 0pt 0px 0s 0sp 0th 0ubuntu1 0ubuntu2 0ubuntu9 0v 0woc6xL3 0x 0x0 0x0C 0x0E 0x0a 0x0b 0x0e 0x0f 0x1 0x1a 0x1b 0x1c 0x1d 0x1d6b 0x1e 0x1fe 0x2 0x2f 0x2f8 0x3 0x3C 0x3F 0x3c0 0x4 0x4A4D 0x4c 0x5 0x5E 0x6 0x6B 0x7 0x7F 0x7f8e3b 0x7fa 0x8 0x8b 0x9 0x9E 0xAB 0xB 0xBC 0xC'"
      ]
     },
     "execution_count": 14,
     "metadata": {},
     "output_type": "execute_result"
    }
   ],
   "source": [
    "' '.join(words[:100])"
   ]
  },
  {
   "cell_type": "code",
   "execution_count": 15,
   "metadata": {},
   "outputs": [
    {
     "name": "stdout",
     "output_type": "stream",
     "text": [
      "Number of known tokens - 60668\n"
     ]
    }
   ],
   "source": [
    "idx2word = [\"<space>\", \"<unk>\"] + words\n",
    "word2idx = {w: idx for idx, w in enumerate(idx2word)}\n",
    "print('Number of known tokens -', len(word2idx))"
   ]
  },
  {
   "cell_type": "code",
   "execution_count": 16,
   "metadata": {},
   "outputs": [],
   "source": [
    "from functools import partial\n",
    "\n",
    "def str2tokens(s: str, t2i: dict) -> list:\n",
    "    tokens = tokenize(s)\n",
    "    return [t2i[t if t in t2i else \"<unk>\"] for t in tokens]\n",
    "\n",
    "s2t = partial(str2tokens, t2i=word2idx)"
   ]
  },
  {
   "cell_type": "code",
   "execution_count": 17,
   "metadata": {},
   "outputs": [
    {
     "name": "stdout",
     "output_type": "stream",
     "text": [
      "n unknown words (crawl):  12190\n",
      "CPU times: user 4.06 s, sys: 1.09 s, total: 5.15 s\n",
      "Wall time: 5.15 s\n"
     ]
    }
   ],
   "source": [
    "%%time\n",
    "\n",
    "crawl_matrix, unknown_words_crawl = build_matrix(word2idx, embeddings_dir / 'crawl-300d-2M.pkl')\n",
    "print('n unknown words (crawl): ', len(unknown_words_crawl))"
   ]
  },
  {
   "cell_type": "code",
   "execution_count": 18,
   "metadata": {},
   "outputs": [
    {
     "name": "stdout",
     "output_type": "stream",
     "text": [
      "n unknown words (glove):  12127\n",
      "CPU times: user 4.36 s, sys: 624 ms, total: 4.99 s\n",
      "Wall time: 4.99 s\n"
     ]
    }
   ],
   "source": [
    "%%time\n",
    "\n",
    "glove_matrix, unknown_words_glove = build_matrix(word2idx, embeddings_dir / 'glove.840B.300d.pkl')\n",
    "print('n unknown words (glove): ', len(unknown_words_glove))"
   ]
  },
  {
   "cell_type": "code",
   "execution_count": null,
   "metadata": {},
   "outputs": [],
   "source": [
    "%%time\n",
    "\n",
    "glove_matrix, unknown_words_glove = build_matrix(word2idx, embeddings_dir / 'glove.840B.300d.pkl')\n",
    "print('n unknown words (glove): ', len(unknown_words_glove))"
   ]
  },
  {
   "cell_type": "code",
   "execution_count": 19,
   "metadata": {},
   "outputs": [
    {
     "name": "stdout",
     "output_type": "stream",
     "text": [
      "(60668, 600)\n"
     ]
    },
    {
     "data": {
      "text/plain": [
       "29"
      ]
     },
     "execution_count": 19,
     "metadata": {},
     "output_type": "execute_result"
    }
   ],
   "source": [
    "embedding_matrix = np.concatenate([crawl_matrix, glove_matrix], axis=-1)\n",
    "# embedding_matrix = crawl_matrix + glove_matrix\n",
    "print(embedding_matrix.shape)\n",
    "\n",
    "del crawl_matrix\n",
    "del glove_matrix\n",
    "gc.collect()"
   ]
  },
  {
   "cell_type": "code",
   "execution_count": 20,
   "metadata": {},
   "outputs": [
    {
     "data": {
      "text/plain": [
       "(60668, 600)"
      ]
     },
     "execution_count": 20,
     "metadata": {},
     "output_type": "execute_result"
    }
   ],
   "source": [
    "with open(embeddings_dir / 'glove_crawl_emb.pkl', 'wb') as f:\n",
    "    embedding_matrix.dump(f)\n",
    "\n",
    "embedding_matrix.shape"
   ]
  },
  {
   "cell_type": "code",
   "execution_count": 21,
   "metadata": {},
   "outputs": [],
   "source": [
    "tmp = np.load(embeddings_dir / 'glove_crawl_emb.pkl', allow_pickle=True)"
   ]
  },
  {
   "cell_type": "code",
   "execution_count": 22,
   "metadata": {},
   "outputs": [
    {
     "data": {
      "text/plain": [
       "(60668, 600)"
      ]
     },
     "execution_count": 22,
     "metadata": {},
     "output_type": "execute_result"
    }
   ],
   "source": [
    "tmp.shape"
   ]
  },
  {
   "cell_type": "code",
   "execution_count": 23,
   "metadata": {},
   "outputs": [
    {
     "name": "stderr",
     "output_type": "stream",
     "text": [
      "100%|██████████| 3/3 [00:01<00:00,  1.84it/s]\n"
     ]
    }
   ],
   "source": [
    "for c in tqdm(text_columns):\n",
    "    train[c] = train[c].apply(s2t)\n",
    "    test[c] = test[c].apply(s2t)"
   ]
  },
  {
   "cell_type": "code",
   "execution_count": 24,
   "metadata": {},
   "outputs": [
    {
     "data": {
      "text/plain": [
       "64"
      ]
     },
     "execution_count": 24,
     "metadata": {},
     "output_type": "execute_result"
    }
   ],
   "source": [
    "unique_hosts = list(set(train['host'].unique().tolist() + test['host'].unique().tolist()))\n",
    "unique_hosts = sorted(unique_hosts)\n",
    "\n",
    "idx2host = unique_hosts\n",
    "host2idx = {host: idx for idx, host in enumerate(unique_hosts)}\n",
    "\n",
    "len(host2idx)"
   ]
  },
  {
   "cell_type": "code",
   "execution_count": 25,
   "metadata": {},
   "outputs": [
    {
     "data": {
      "text/plain": [
       "5"
      ]
     },
     "execution_count": 25,
     "metadata": {},
     "output_type": "execute_result"
    }
   ],
   "source": [
    "unique_categories = list(set(train['category'].unique().tolist() + test['category'].unique().tolist()))\n",
    "unique_categories = sorted(unique_categories)\n",
    "\n",
    "idx2category = unique_categories\n",
    "category2idx = {cat: idx for idx, cat in enumerate(unique_categories)}\n",
    "\n",
    "len(category2idx)"
   ]
  },
  {
   "cell_type": "code",
   "execution_count": 26,
   "metadata": {},
   "outputs": [
    {
     "name": "stderr",
     "output_type": "stream",
     "text": [
      "100%|██████████| 2/2 [00:00<00:00, 259.70it/s]\n",
      "100%|██████████| 2/2 [00:00<00:00, 873.27it/s]\n"
     ]
    }
   ],
   "source": [
    "for d in tqdm((train, test)):\n",
    "    d['host'] = d['host'].apply(lambda item: [host2idx[item]])\n",
    "    \n",
    "for d in tqdm((train, test)):\n",
    "    d['category'] = d['category'].apply(lambda item: [category2idx[item]])"
   ]
  },
  {
   "cell_type": "code",
   "execution_count": 27,
   "metadata": {},
   "outputs": [
    {
     "data": {
      "text/html": [
       "<div>\n",
       "<style scoped>\n",
       "    .dataframe tbody tr th:only-of-type {\n",
       "        vertical-align: middle;\n",
       "    }\n",
       "\n",
       "    .dataframe tbody tr th {\n",
       "        vertical-align: top;\n",
       "    }\n",
       "\n",
       "    .dataframe thead th {\n",
       "        text-align: right;\n",
       "    }\n",
       "</style>\n",
       "<table border=\"1\" class=\"dataframe\">\n",
       "  <thead>\n",
       "    <tr style=\"text-align: right;\">\n",
       "      <th></th>\n",
       "      <th>qa_id</th>\n",
       "      <th>question_title</th>\n",
       "      <th>question_body</th>\n",
       "      <th>question_user_name</th>\n",
       "      <th>question_user_page</th>\n",
       "      <th>answer</th>\n",
       "      <th>answer_user_name</th>\n",
       "      <th>answer_user_page</th>\n",
       "      <th>url</th>\n",
       "      <th>category</th>\n",
       "      <th>host</th>\n",
       "    </tr>\n",
       "  </thead>\n",
       "  <tbody>\n",
       "    <tr>\n",
       "      <th>0</th>\n",
       "      <td>39</td>\n",
       "      <td>[22738, 41113, 29867, 42017, 25131, 57850, 438...</td>\n",
       "      <td>[9961, 51742, 48948, 19, 39151, 45399, 23474, ...</td>\n",
       "      <td>Dylan</td>\n",
       "      <td>https://gaming.stackexchange.com/users/64471</td>\n",
       "      <td>[20809, 39953, 44606, 29469, 35463, 41113, 298...</td>\n",
       "      <td>Nelson868</td>\n",
       "      <td>https://gaming.stackexchange.com/users/97324</td>\n",
       "      <td>http://gaming.stackexchange.com/questions/1979...</td>\n",
       "      <td>[0]</td>\n",
       "      <td>[24]</td>\n",
       "    </tr>\n",
       "    <tr>\n",
       "      <th>1</th>\n",
       "      <td>46</td>\n",
       "      <td>[21777, 41501, 56312, 34764, 38639, 38845, 558...</td>\n",
       "      <td>[9961, 24487, 44399, 56312, 22846, 18, 2, 3836...</td>\n",
       "      <td>Anu</td>\n",
       "      <td>https://wordpress.stackexchange.com/users/72927</td>\n",
       "      <td>[9961, 55971, 40059, 39953, 47662, 59243, 3049...</td>\n",
       "      <td>Irina</td>\n",
       "      <td>https://wordpress.stackexchange.com/users/27233</td>\n",
       "      <td>http://wordpress.stackexchange.com/questions/1...</td>\n",
       "      <td>[4]</td>\n",
       "      <td>[63]</td>\n",
       "    </tr>\n",
       "    <tr>\n",
       "      <th>2</th>\n",
       "      <td>70</td>\n",
       "      <td>[10779, 23635, 16, 2, 49480, 45565, 27160, 537...</td>\n",
       "      <td>[20980, 34250, 9961, 53931, 23367, 26823, 3602...</td>\n",
       "      <td>Konsta</td>\n",
       "      <td>https://gaming.stackexchange.com/users/37545</td>\n",
       "      <td>[23212, 32311, 44784, 37596, 25121, 38845, 558...</td>\n",
       "      <td>Damon Smithies</td>\n",
       "      <td>https://gaming.stackexchange.com/users/70641</td>\n",
       "      <td>http://gaming.stackexchange.com/questions/2154...</td>\n",
       "      <td>[0]</td>\n",
       "      <td>[24]</td>\n",
       "    </tr>\n",
       "    <tr>\n",
       "      <th>3</th>\n",
       "      <td>132</td>\n",
       "      <td>[19978, 36922, 24577, 9961, 19, 14397, 33796, ...</td>\n",
       "      <td>[9961, 37596, 57926, 43899, 16976, 15772, 2521...</td>\n",
       "      <td>robbannn</td>\n",
       "      <td>https://raspberrypi.stackexchange.com/users/17341</td>\n",
       "      <td>[23216, 22644, 6109, 37498, 32628, 39953, 3192...</td>\n",
       "      <td>HeatfanJohn</td>\n",
       "      <td>https://raspberrypi.stackexchange.com/users/1311</td>\n",
       "      <td>http://raspberrypi.stackexchange.com/questions...</td>\n",
       "      <td>[4]</td>\n",
       "      <td>[45]</td>\n",
       "    </tr>\n",
       "    <tr>\n",
       "      <th>4</th>\n",
       "      <td>200</td>\n",
       "      <td>[15545, 13970, 2, 17, 2, 8033, 3056, 15545, 45...</td>\n",
       "      <td>[9961, 37596, 26850, 5888, 17, 12223, 50519, 3...</td>\n",
       "      <td>Amit</td>\n",
       "      <td>https://travel.stackexchange.com/users/29089</td>\n",
       "      <td>[9961, 27424, 57063, 46818, 59080, 59344, 3546...</td>\n",
       "      <td>Nean Der Thal</td>\n",
       "      <td>https://travel.stackexchange.com/users/10051</td>\n",
       "      <td>http://travel.stackexchange.com/questions/4704...</td>\n",
       "      <td>[0]</td>\n",
       "      <td>[58]</td>\n",
       "    </tr>\n",
       "  </tbody>\n",
       "</table>\n",
       "</div>"
      ],
      "text/plain": [
       "   qa_id                                     question_title  \\\n",
       "0     39  [22738, 41113, 29867, 42017, 25131, 57850, 438...   \n",
       "1     46  [21777, 41501, 56312, 34764, 38639, 38845, 558...   \n",
       "2     70  [10779, 23635, 16, 2, 49480, 45565, 27160, 537...   \n",
       "3    132  [19978, 36922, 24577, 9961, 19, 14397, 33796, ...   \n",
       "4    200  [15545, 13970, 2, 17, 2, 8033, 3056, 15545, 45...   \n",
       "\n",
       "                                       question_body question_user_name  \\\n",
       "0  [9961, 51742, 48948, 19, 39151, 45399, 23474, ...              Dylan   \n",
       "1  [9961, 24487, 44399, 56312, 22846, 18, 2, 3836...                Anu   \n",
       "2  [20980, 34250, 9961, 53931, 23367, 26823, 3602...             Konsta   \n",
       "3  [9961, 37596, 57926, 43899, 16976, 15772, 2521...           robbannn   \n",
       "4  [9961, 37596, 26850, 5888, 17, 12223, 50519, 3...               Amit   \n",
       "\n",
       "                                  question_user_page  \\\n",
       "0       https://gaming.stackexchange.com/users/64471   \n",
       "1    https://wordpress.stackexchange.com/users/72927   \n",
       "2       https://gaming.stackexchange.com/users/37545   \n",
       "3  https://raspberrypi.stackexchange.com/users/17341   \n",
       "4       https://travel.stackexchange.com/users/29089   \n",
       "\n",
       "                                              answer answer_user_name  \\\n",
       "0  [20809, 39953, 44606, 29469, 35463, 41113, 298...        Nelson868   \n",
       "1  [9961, 55971, 40059, 39953, 47662, 59243, 3049...            Irina   \n",
       "2  [23212, 32311, 44784, 37596, 25121, 38845, 558...   Damon Smithies   \n",
       "3  [23216, 22644, 6109, 37498, 32628, 39953, 3192...      HeatfanJohn   \n",
       "4  [9961, 27424, 57063, 46818, 59080, 59344, 3546...    Nean Der Thal   \n",
       "\n",
       "                                   answer_user_page  \\\n",
       "0      https://gaming.stackexchange.com/users/97324   \n",
       "1   https://wordpress.stackexchange.com/users/27233   \n",
       "2      https://gaming.stackexchange.com/users/70641   \n",
       "3  https://raspberrypi.stackexchange.com/users/1311   \n",
       "4      https://travel.stackexchange.com/users/10051   \n",
       "\n",
       "                                                 url category  host  \n",
       "0  http://gaming.stackexchange.com/questions/1979...      [0]  [24]  \n",
       "1  http://wordpress.stackexchange.com/questions/1...      [4]  [63]  \n",
       "2  http://gaming.stackexchange.com/questions/2154...      [0]  [24]  \n",
       "3  http://raspberrypi.stackexchange.com/questions...      [4]  [45]  \n",
       "4  http://travel.stackexchange.com/questions/4704...      [0]  [58]  "
      ]
     },
     "execution_count": 27,
     "metadata": {},
     "output_type": "execute_result"
    }
   ],
   "source": [
    "test.head()"
   ]
  },
  {
   "cell_type": "code",
   "execution_count": 28,
   "metadata": {},
   "outputs": [
    {
     "name": "stdout",
     "output_type": "stream",
     "text": [
      "(4863, 41)\n",
      "(1216, 41)\n"
     ]
    }
   ],
   "source": [
    "# train_df = train\n",
    "# valid_df = train\n",
    "\n",
    "train_df, valid_df = train_test_split(train, test_size=0.2, random_state=2019)\n",
    "\n",
    "print(train_df.shape)\n",
    "print(valid_df.shape)"
   ]
  },
  {
   "cell_type": "code",
   "execution_count": 29,
   "metadata": {},
   "outputs": [],
   "source": [
    "results_dir = data_dir\n",
    "\n",
    "\n",
    "with open(results_dir / 'train.pkl', 'wb') as f:\n",
    "    pickle.dump(train_df, f)\n",
    "    \n",
    "    \n",
    "with open(results_dir / 'valid.pkl', 'wb') as f:\n",
    "    pickle.dump(valid_df, f)\n",
    "    \n",
    "    \n",
    "with open(results_dir / 'test.pkl', 'wb') as f:\n",
    "    pickle.dump(test, f)"
   ]
  },
  {
   "cell_type": "code",
   "execution_count": 30,
   "metadata": {},
   "outputs": [],
   "source": [
    "with open(data_dir/ 'vocab.pkl', 'wb') as f:\n",
    "    pickle.dump((\n",
    "        (idx2word, word2idx),\n",
    "        (idx2host, host2idx),\n",
    "        (idx2category, category2idx)\n",
    "    ), f)"
   ]
  },
  {
   "cell_type": "code",
   "execution_count": null,
   "metadata": {},
   "outputs": [],
   "source": []
  }
 ],
 "metadata": {
  "kernelspec": {
   "display_name": "Python 3",
   "language": "python",
   "name": "python3"
  },
  "language_info": {
   "codemirror_mode": {
    "name": "ipython",
    "version": 3
   },
   "file_extension": ".py",
   "mimetype": "text/x-python",
   "name": "python",
   "nbconvert_exporter": "python",
   "pygments_lexer": "ipython3",
   "version": "3.7.3"
  }
 },
 "nbformat": 4,
 "nbformat_minor": 4
}
