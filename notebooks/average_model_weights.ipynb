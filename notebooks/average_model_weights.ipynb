{
 "cells": [
  {
   "cell_type": "code",
   "execution_count": 1,
   "metadata": {},
   "outputs": [],
   "source": [
    "import sys\n",
    "import yaml\n",
    "import torch\n",
    "\n",
    "sys.path.append(\"..\")\n",
    "from src import registry"
   ]
  },
  {
   "cell_type": "code",
   "execution_count": 2,
   "metadata": {},
   "outputs": [],
   "source": [
    "config_file = \"../configs/transformers_large.yml\"\n",
    "\n",
    "with open(config_file, 'r') as f:\n",
    "    config = yaml.load(f, Loader=yaml.FullLoader)\n",
    "\n",
    "checkpoints = (\n",
    "    \"../logs/folds/tlgkf_0_1/checkpoints/best.pth\",\n",
    "    \"../logs/folds/tlgkf_1_2/checkpoints/best.pth\",\n",
    "    \"../logs/folds/tlgkf_2_2/checkpoints/best.pth\",\n",
    ")"
   ]
  },
  {
   "cell_type": "code",
   "execution_count": 3,
   "metadata": {},
   "outputs": [],
   "source": [
    "def load_model(config, checkpoint):\n",
    "    model = registry.MODELS.get_from_params(**config['model_params'])\n",
    "    checkpoint = torch.load(checkpoint, map_location='cpu')\n",
    "    model.load_state_dict(checkpoint['model_state_dict'])\n",
    "    return model"
   ]
  },
  {
   "cell_type": "code",
   "execution_count": 4,
   "metadata": {},
   "outputs": [],
   "source": [
    "models = [load_model(config, ch) for ch in checkpoints]"
   ]
  },
  {
   "cell_type": "code",
   "execution_count": 5,
   "metadata": {},
   "outputs": [
    {
     "data": {
      "text/plain": [
       "3"
      ]
     },
     "execution_count": 5,
     "metadata": {},
     "output_type": "execute_result"
    }
   ],
   "source": [
    "len(models)"
   ]
  },
  {
   "cell_type": "code",
   "execution_count": 6,
   "metadata": {},
   "outputs": [],
   "source": [
    "model = registry.MODELS.get_from_params(**config['model_params'])"
   ]
  },
  {
   "cell_type": "code",
   "execution_count": 7,
   "metadata": {},
   "outputs": [
    {
     "data": {
      "text/plain": [
       "<All keys matched successfully>"
      ]
     },
     "execution_count": 7,
     "metadata": {},
     "output_type": "execute_result"
    }
   ],
   "source": [
    "params = model.named_parameters()\n",
    "dparams = dict(params)\n",
    "dict_params = [dict(m.named_parameters()) for m in models]\n",
    "\n",
    "alpha = 1 / len(dict_params)\n",
    "\n",
    "for n, p in params:\n",
    "    if name1 in dict_params2:\n",
    "        dparams[n].data.copy_(alpha * dict_params[0][n].data + \\\n",
    "                              alpha * dict_params[1][n].data + \\\n",
    "                              alpha * dict_params[2][n].data)\n",
    "\n",
    "model.load_state_dict(dparams)"
   ]
  },
  {
   "cell_type": "code",
   "execution_count": 8,
   "metadata": {},
   "outputs": [],
   "source": [
    "torch.save({\"model_state_dict\": model.state_dict()}, \"../bert_large_folds_weight_avg.pth\")"
   ]
  },
  {
   "cell_type": "code",
   "execution_count": 9,
   "metadata": {},
   "outputs": [
    {
     "name": "stdout",
     "output_type": "stream",
     "text": [
      "-rw-rw-r--  1 dmdr dmdr 1,3G гру 21 16:43 bert_large_f_1.pt\n",
      "-rw-rw-r--  1 dmdr dmdr 1,3G гру 20 20:11 bert_large_f_2.pt\n",
      "-rw-rw-r--  1 dmdr dmdr 1,3G гру 23 14:38 bert_large_folds_weight_avg.pth\n"
     ]
    }
   ],
   "source": [
    "!ls -lah .. | grep \".pt\""
   ]
  },
  {
   "cell_type": "code",
   "execution_count": null,
   "metadata": {},
   "outputs": [],
   "source": []
  }
 ],
 "metadata": {
  "kernelspec": {
   "display_name": "Python 3",
   "language": "python",
   "name": "python3"
  },
  "language_info": {
   "codemirror_mode": {
    "name": "ipython",
    "version": 3
   },
   "file_extension": ".py",
   "mimetype": "text/x-python",
   "name": "python",
   "nbconvert_exporter": "python",
   "pygments_lexer": "ipython3",
   "version": "3.7.4"
  }
 },
 "nbformat": 4,
 "nbformat_minor": 4
}
